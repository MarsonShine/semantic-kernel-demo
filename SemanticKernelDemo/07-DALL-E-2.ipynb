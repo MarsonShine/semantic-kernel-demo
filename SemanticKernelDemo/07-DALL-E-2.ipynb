{
 "cells": [
  {
   "attachments": {},
   "cell_type": "markdown",
   "metadata": {},
   "source": [
    "# AI 生成图片\n",
    "\n",
    "本手册演示了如何使用 `OpenAI DALL-E 2` 生成图像，并结合其他LLM功能，如文本和嵌入生成。\n",
    "\n",
    "这里，我们使用`Text Generation` 生成随机图像描述，并使用 `dall - e2` 从该描述创建图像，以内联方式显示图像。\n",
    "\n",
    "最后，笔记本要求用户描述图像。使用余弦相似度将用户描述的嵌入与原始描述进行比较，并返回从0到1的分数，其中1表示完全匹配。"
   ]
  },
  {
   "cell_type": "code",
   "execution_count": null,
   "metadata": {
    "vscode": {
     "languageId": "csharp"
    }
   },
   "outputs": [],
   "source": [
    "// Usual setup: importing Semantic Kernel SDK and SkiaSharp, used to display images inline.\n",
    "\n",
    "#r \"nuget: Microsoft.SemanticKernel, 0.14.547.1-preview\"\n",
    "#r \"nuget: SkiaSharp, 2.88.3\"\n",
    "\n",
    "#!import config/Settings.cs\n",
    "#!import config/Utils.cs\n",
    "#!import config/SkiaUtils.cs\n",
    "\n",
    "using Microsoft.SemanticKernel;\n",
    "using Microsoft.SemanticKernel.AI.ImageGeneration; \n",
    "using Microsoft.SemanticKernel.AI.Embeddings;\n",
    "using Microsoft.SemanticKernel.AI.Embeddings.VectorOperations;"
   ]
  },
  {
   "attachments": {},
   "cell_type": "markdown",
   "metadata": {},
   "source": [
    "## 设置，使用 AI 服务：图像，文本，嵌入资源\n",
    "\n",
    "该笔记使用了：\n",
    "\n",
    "- text-davinci-003 生成随机图片描述\n",
    "- OpenAI Dall-E 2 将图片描述转换为图片\n",
    "- text-embedding-data-002 将你的猜测与真实图像描述进行比较"
   ]
  },
  {
   "cell_type": "code",
   "execution_count": null,
   "metadata": {
    "vscode": {
     "languageId": "csharp"
    }
   },
   "outputs": [],
   "source": [
    "// Load OpenAI credentials from config/settings.json\n",
    "var (useAzureOpenAI, model, azureEndpoint, apiKey, orgId) = Settings.LoadFromFile();\n",
    "\n",
    "// Configure the three AI features: text embedding (using Ada), text completion (using DaVinci 3), image generation (DALL-E 2)\n",
    "var kernel = new KernelBuilder()\n",
    "    .Configure(c =>\n",
    "    {\n",
    "        c.AddOpenAITextEmbeddingGenerationService(\"text-embedding-ada-002\", apiKey);\n",
    "        c.AddOpenAITextCompletionService(\"text-davinci-003\", apiKey, orgId);\n",
    "        c.AddOpenAIImageGenerationService(apiKey, orgId);\n",
    "    })\n",
    "    .Build();\n",
    "\n",
    "// Get AI service instance used to generate images\n",
    "var dallE = kernel.GetService<IImageGeneration>();\n",
    "\n",
    "// Get AI service instance used to extract embedding from a text\n",
    "var textEmbedding = kernel.GetService<IEmbeddingGeneration<string, float>>();"
   ]
  },
  {
   "attachments": {},
   "cell_type": "markdown",
   "metadata": {},
   "source": [
    "## 通过 DALL-E 2 生成图片\n",
    "\n",
    "`genImgDescription ` 是使用一个语义函数来生成一个随机图片描述。该函数接受一个随机数作为输入，以增加输出的多样性。\n",
    "\n",
    "然后将随机图像描述提供给 `dall - e 2`，要求其创建图像。"
   ]
  },
  {
   "cell_type": "code",
   "execution_count": null,
   "metadata": {
    "vscode": {
     "languageId": "csharp"
    }
   },
   "outputs": [],
   "source": [
    "// Create a semantic function that generate a random image description.\n",
    "var genImgDescription = kernel.CreateSemanticFunction(\n",
    "    \"Think about an artificial object correlated to number {{$input}}. \" +\n",
    "    \"Describe the image with one detailed sentence. The description cannot contain numbers.\", \n",
    "    maxTokens: 256, temperature: 1);\n",
    "\n",
    "var random = new Random().Next(0, 200);\n",
    "var imageDescription = await genImgDescription.InvokeAsync($\"{random}\");\n",
    "\n",
    "// Use DALL-E 2 to generate an image. OpenAI in this case returns a URL (though you can ask to return a base64 image)\n",
    "var imageUrl = await dallE.GenerateImageAsync(imageDescription.Result.Trim(), 512, 512);\n",
    "\n",
    "await SkiaUtils.ShowImage(imageUrl, 512, 512);"
   ]
  },
  {
   "attachments": {},
   "cell_type": "markdown",
   "metadata": {},
   "source": [
    "## 猜谜游戏\n",
    "\n",
    "让我们来看描述猜画游戏吧。\n",
    "\n",
    "你最后会得到一个分数。"
   ]
  },
  {
   "cell_type": "code",
   "execution_count": null,
   "metadata": {
    "vscode": {
     "languageId": "csharp"
    }
   },
   "outputs": [],
   "source": [
    "// Prompt the user to guess what the image is\n",
    "var guess = await InteractiveKernel.GetInputAsync(\"Describe the image in your words\");\n",
    "\n",
    "// Compare user guess with real description and calculate score\n",
    "var origEmbedding = await textEmbedding.GenerateEmbeddingsAsync(new List<string> { imageDescription.Result} );\n",
    "var guessEmbedding = await textEmbedding.GenerateEmbeddingsAsync(new List<string> { guess } );\n",
    "var similarity = origEmbedding.First().AsReadOnlySpan().CosineSimilarity(guessEmbedding.First().AsReadOnlySpan());\n",
    "\n",
    "Console.WriteLine($\"Your description:\\n{Utils.WordWrap(guess, 90)}\\n\");\n",
    "Console.WriteLine($\"Real description:\\n{Utils.WordWrap(imageDescription.Result.Trim(), 90)}\\n\");\n",
    "Console.WriteLine($\"Score: {similarity:0.00}\\n\\n\");\n",
    "\n",
    "//Uncomment this line to see the URL provided by OpenAI\n",
    "//Console.WriteLine(imageUrl);"
   ]
  },
  {
   "cell_type": "code",
   "execution_count": null,
   "metadata": {
    "vscode": {
     "languageId": "csharp"
    }
   },
   "outputs": [],
   "source": [
    "// 结果例子\n",
    "\n",
    "Your description:\n",
    "a blue and yellow toy ca over a squared blue and yellow surface\n",
    "\n",
    "\n",
    "Real description:\n",
    "A bright yellow plastic toy car with a blue stripe down the side and a white star on the\n",
    "hood, sitting atop a checkered patterned rug.\n",
    "\n",
    "\n",
    "Score: 0.92"
   ]
  }
 ],
 "metadata": {
  "kernelspec": {
   "display_name": ".NET (C#)",
   "language": "C#",
   "name": ".net-csharp"
  },
  "language_info": {
   "name": "C#"
  },
  "orig_nbformat": 4
 },
 "nbformat": 4,
 "nbformat_minor": 2
}
