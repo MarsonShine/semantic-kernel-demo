{
 "cells": [
  {
   "attachments": {},
   "cell_type": "markdown",
   "metadata": {},
   "source": [
    "# 使用上下文变量创建一个基于经验的聊天\n",
    "\n",
    "在这个例子中，我们展示了你如何通过发送和更新请求的上下文来建立一个简单的聊天机器人。\n",
    "\n",
    "我们介绍了上下文变量对象，在这个演示中，它的功能类似于一个键值存储，你可以在运行内核时使用。\n",
    "\n",
    "上下文是本地的（即在你的计算机的RAM中），并且在这个Jupyter会话的寿命之外不会被持久化。\n",
    "\n",
    "在未来的例子中，我们将展示如何在磁盘上持久化上下文，以便你可以将其带入你的应用程序。\n",
    "\n",
    "在这个聊天场景中，当用户与机器人来回交谈时，上下文会被填充到对话的历史中。在内核的每一次新的运行中，上下文可以向人工智能提供其变量的内容。"
   ]
  },
  {
   "cell_type": "code",
   "execution_count": null,
   "metadata": {
    "vscode": {
     "languageId": "csharp"
    }
   },
   "outputs": [],
   "source": [
    "#r \"nuget: Microsoft.SemanticKernel, 0.14.547.1-preview\"\n",
    "\n",
    "#!import config/Settings.cs\n",
    "\n",
    "using Microsoft.SemanticKernel;\n",
    "using Microsoft.SemanticKernel.SemanticFunctions;\n",
    "using Microsoft.SemanticKernel.Orchestration;\n",
    "\n",
    "IKernel kernel = KernelBuilder.Create();\n",
    "\n",
    "// Configure AI backend used by the kernel\n",
    "var (useAzureOpenAI, model, azureEndpoint, apiKey, orgId) = Settings.LoadFromFile();\n",
    "if (useAzureOpenAI)\n",
    "    kernel.Config.AddAzureTextCompletionService(model, azureEndpoint, apiKey);\n",
    "else\n",
    "    kernel.Config.AddOpenAITextCompletionService(model, apiKey, orgId);"
   ]
  },
  {
   "attachments": {},
   "cell_type": "markdown",
   "metadata": {},
   "source": [
    "让我们定义一个提示，概述一个对话聊天机器人。"
   ]
  },
  {
   "cell_type": "code",
   "execution_count": null,
   "metadata": {
    "vscode": {
     "languageId": "csharp"
    }
   },
   "outputs": [],
   "source": [
    "const string skPrompt = @\"\n",
    "ChatBot can have a conversation with you about any topic.\n",
    "It can give explicit instructions or say 'I don't know' if it does not have an answer.\n",
    "\n",
    "{{$history}}\n",
    "User: {{$userInput}}\n",
    "ChatBot:\";\n",
    "\n",
    "var promptConfig = new PromptTemplateConfig\n",
    "{\n",
    "    Completion =\n",
    "    {\n",
    "        MaxTokens = 2000,\n",
    "        Temperature = 0.7,\n",
    "        TopP = 0.5,\n",
    "    }\n",
    "};"
   ]
  },
  {
   "attachments": {},
   "cell_type": "markdown",
   "metadata": {},
   "source": [
    "注册语义函数："
   ]
  },
  {
   "cell_type": "code",
   "execution_count": null,
   "metadata": {
    "vscode": {
     "languageId": "csharp"
    }
   },
   "outputs": [],
   "source": [
    "var promptTemplate = new PromptTemplate(skPrompt, promptConfig, kernel);\n",
    "var functionConfig = new SemanticFunctionConfig(promptConfig, promptTemplate);\n",
    "var chatFunction = kernel.RegisterSemanticFunction(\"ChatBot\", \"Chat\", functionConfig);"
   ]
  },
  {
   "attachments": {},
   "cell_type": "markdown",
   "metadata": {},
   "source": [
    "初始化上下文"
   ]
  },
  {
   "cell_type": "code",
   "execution_count": null,
   "metadata": {
    "vscode": {
     "languageId": "csharp"
    }
   },
   "outputs": [],
   "source": [
    "var context = kernel.CreateNewContext();\n",
    "\n",
    "var history = \"\";\n",
    "context[\"history\"] = history;"
   ]
  },
  {
   "attachments": {},
   "cell_type": "markdown",
   "metadata": {},
   "source": [
    "机器人聊天"
   ]
  },
  {
   "cell_type": "code",
   "execution_count": null,
   "metadata": {
    "vscode": {
     "languageId": "csharp"
    }
   },
   "outputs": [],
   "source": [
    "var userInput = \"Hi, I'm looking for book suggestions\";\n",
    "context[\"userInput\"] = userInput;\n",
    "\n",
    "var bot_answer = await chatFunction.InvokeAsync(context);"
   ]
  },
  {
   "attachments": {},
   "cell_type": "markdown",
   "metadata": {},
   "source": [
    "用输出内容来更新 history"
   ]
  },
  {
   "cell_type": "code",
   "execution_count": null,
   "metadata": {
    "vscode": {
     "languageId": "csharp"
    }
   },
   "outputs": [],
   "source": [
    "history += $\"\\nUser: {userInput}\\nMelody: {bot_answer}\\n\";\n",
    "context.Variables.Update(history);\n",
    "\n",
    "Console.WriteLine(context);"
   ]
  },
  {
   "attachments": {},
   "cell_type": "markdown",
   "metadata": {},
   "source": [
    "继续聊天吧！"
   ]
  },
  {
   "cell_type": "code",
   "execution_count": null,
   "metadata": {
    "vscode": {
     "languageId": "csharp"
    }
   },
   "outputs": [],
   "source": [
    "Func<string, Task> Chat = async (string input) => {\n",
    "    // Save new message in the context variables\n",
    "    context[\"userInput\"] = input;\n",
    "\n",
    "    // Process the user message and get an answer\n",
    "    var answer = await chatFunction.InvokeAsync(context);\n",
    "\n",
    "    // Append the new interaction to the chat history\n",
    "    history += $\"\\nUser: {input}\\nMelody: {answer}\\n\"; \n",
    "    context[\"history\"] = history;\n",
    "    \n",
    "    // Show the response\n",
    "    Console.WriteLine(context);\n",
    "};\n",
    "\n",
    "await Chat(\"I would like a non-fiction book suggestion about Greece history. Please only list one book.\");\n",
    "await Chat(\"that sounds interesting, what are some of the topics I will learn about?\");\n",
    "await Chat(\"Which topic from the ones you listed do you think most people find interesting?\");\n",
    "await Chat(\"could you list some more books I could read about the topic(s) you mentioned?\");"
   ]
  }
 ],
 "metadata": {
  "kernelspec": {
   "display_name": ".NET (C#)",
   "language": "C#",
   "name": ".net-csharp"
  },
  "language_info": {
   "file_extension": ".cs",
   "mimetype": "text/x-csharp",
   "name": "C#",
   "pygments_lexer": "csharp",
   "version": "11.0"
  },
  "orig_nbformat": 4
 },
 "nbformat": 4,
 "nbformat_minor": 2
}
